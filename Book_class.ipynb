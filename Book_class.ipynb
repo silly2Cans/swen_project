{
 "cells": [
  {
   "cell_type": "code",
   "execution_count": 39,
   "metadata": {},
   "outputs": [],
   "source": [
    "class Book(object):\n",
    "    bookID = 0\n",
    "    def __init__(self, title):\n",
    "        self.title = title\n",
    "        self.__text = \"\"\n",
    "        Book.__setID(Book)\n",
    "        \n",
    "    def write(self):\n",
    "        try:\n",
    "            self.__text = self.__text + str(input(\"What?\"))\n",
    "            if self.__text[-1] == \".\":\n",
    "                self.__text = self.__text + \" \"\n",
    "        except IndexError as e:\n",
    "            pass\n",
    "\n",
    "    def read(self):\n",
    "        print(self.title)\n",
    "        print(\"=\" * len(self.title))\n",
    "        print()\n",
    "        print(self.__text)\n",
    "        \n",
    "    def __setID(cls):\n",
    "        cls.bookID += 1\n",
    "        \n",
    "    "
   ]
  },
  {
   "cell_type": "code",
   "execution_count": 40,
   "metadata": {},
   "outputs": [],
   "source": [
    "myBook = Book(\"Book of Facts\")"
   ]
  },
  {
   "cell_type": "code",
   "execution_count": 41,
   "metadata": {},
   "outputs": [
    {
     "data": {
      "text/plain": [
       "'Book of Facts'"
      ]
     },
     "execution_count": 41,
     "metadata": {},
     "output_type": "execute_result"
    }
   ],
   "source": [
    "myBook.title\n"
   ]
  },
  {
   "cell_type": "code",
   "execution_count": 42,
   "metadata": {},
   "outputs": [
    {
     "data": {
      "text/plain": [
       "1"
      ]
     },
     "execution_count": 42,
     "metadata": {},
     "output_type": "execute_result"
    }
   ],
   "source": [
    "myBook.bookID"
   ]
  },
  {
   "cell_type": "code",
   "execution_count": 43,
   "metadata": {},
   "outputs": [
    {
     "name": "stdout",
     "output_type": "stream",
     "text": [
      "What?\n"
     ]
    }
   ],
   "source": [
    "myBook.write()"
   ]
  },
  {
   "cell_type": "code",
   "execution_count": null,
   "metadata": {},
   "outputs": [],
   "source": []
  },
  {
   "cell_type": "code",
   "execution_count": 44,
   "metadata": {},
   "outputs": [
    {
     "name": "stdout",
     "output_type": "stream",
     "text": [
      "What?\n"
     ]
    }
   ],
   "source": [
    "myBook.write()"
   ]
  },
  {
   "cell_type": "code",
   "execution_count": 45,
   "metadata": {},
   "outputs": [
    {
     "name": "stdout",
     "output_type": "stream",
     "text": [
      "Book of Facts\n",
      "=============\n",
      "\n",
      "\n"
     ]
    }
   ],
   "source": [
    "myBook.read()"
   ]
  },
  {
   "cell_type": "code",
   "execution_count": null,
   "metadata": {},
   "outputs": [],
   "source": []
  },
  {
   "cell_type": "code",
   "execution_count": null,
   "metadata": {},
   "outputs": [],
   "source": []
  }
 ],
 "metadata": {
  "kernelspec": {
   "display_name": "Python 3",
   "language": "python",
   "name": "python3"
  },
  "language_info": {
   "codemirror_mode": {
    "name": "ipython",
    "version": 3
   },
   "file_extension": ".py",
   "mimetype": "text/x-python",
   "name": "python",
   "nbconvert_exporter": "python",
   "pygments_lexer": "ipython3",
   "version": "3.7.2"
  }
 },
 "nbformat": 4,
 "nbformat_minor": 2
}
