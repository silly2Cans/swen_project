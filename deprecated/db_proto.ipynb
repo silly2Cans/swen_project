{
 "cells": [
  {
   "cell_type": "code",
   "execution_count": 2,
   "metadata": {},
   "outputs": [],
   "source": [
    "import sqlite3\n"
   ]
  },
  {
   "cell_type": "code",
   "execution_count": 3,
   "metadata": {},
   "outputs": [
    {
     "name": "stdout",
     "output_type": "stream",
     "text": [
      "(1, 'Mike', 'Du Maus', 'dumaus@email.com')\n",
      "[]\n"
     ]
    }
   ],
   "source": [
    "# Create a connection object for sqlite db\n",
    "conn = sqlite3.connect(\"test.db\")\n",
    "\n",
    "# Return a cursor object from the connection\n",
    "c = conn.cursor()\n",
    "# Define SQL statement and execute\n",
    "c.execute(\"\"\"CREATE TABLE employees(\n",
    "            id int primary key,\n",
    "            firstName text ,\n",
    "            surname text,\n",
    "            email text)\"\"\")\n",
    "# Commit the changes\n",
    "conn.commit()\n",
    "\n",
    "# conn.close()\n",
    "# help(sqlite3)\n",
    "\n",
    "try:\n",
    "    conn1 = sqlite3.connect(\"test.db\")\n",
    "    c = conn.cursor()\n",
    "    c.execute(\"INSERT INTO employees VALUES('1', 'Mike', 'Du Maus', 'dumaus@email.com')\")\n",
    "    conn.commit()\n",
    "except sqlite3.IntegrityError as e:\n",
    "    print(e, \"::Primary Key attribute must be unique::\")\n",
    "# conn.close()\n",
    "\n",
    "conn2 = sqlite3.connect(\"test.db\")\n",
    "c = conn.cursor()\n",
    "c.execute(\"SELECT * FROM employees\")\n",
    "# fetchall returns the whole set of tuples in a list\n",
    "# print(c.fetchall())\n",
    "print(c.fetchone())\n",
    "print(c.fetchmany())\n",
    "\n",
    "# conn.commit() \n",
    "# no need to commit because nothing has changed\n",
    "\n",
    "\n"
   ]
  },
  {
   "cell_type": "code",
   "execution_count": null,
   "metadata": {},
   "outputs": [],
   "source": []
  }
 ],
 "metadata": {
  "kernelspec": {
   "display_name": "Python 3",
   "language": "python",
   "name": "python3"
  },
  "language_info": {
   "codemirror_mode": {
    "name": "ipython",
    "version": 3
   },
   "file_extension": ".py",
   "mimetype": "text/x-python",
   "name": "python",
   "nbconvert_exporter": "python",
   "pygments_lexer": "ipython3",
   "version": "3.7.2"
  }
 },
 "nbformat": 4,
 "nbformat_minor": 2
}
