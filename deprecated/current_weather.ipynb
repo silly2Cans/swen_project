{
 "cells": [
  {
   "cell_type": "code",
   "execution_count": 98,
   "metadata": {},
   "outputs": [],
   "source": [
    "import requests\n",
    "import json\n",
    "from pprint import pprint\n",
    "import time\n",
    "def get_weather():\n",
    "    \"\"\"Get the weather data from openweathermap.org API\"\"\"\n",
    "#     Do not make more than 60 requests per hour.\n",
    "    \n",
    "    APIURL = \"http://api.openweathermap.org/data/2.5/weather\"\n",
    "    APIKEY = \"2a2976ca391b03a9c1c9f1eba7680faa\"\n",
    "    CITYID = \"7778677\"\n",
    "#     Make request and print the data\n",
    "    request = requests.get(APIURL, params={'id':CITYID, 'APPID': APIKEY})\n",
    "#     return request.text\n",
    "#     print(request.text)\n",
    "    data = json.loads(request.text)\n",
    "#     print(data[\"city\"])\n",
    "    return data\n",
    "#     pprint(data)\n",
    "\n"
   ]
  },
  {
   "cell_type": "code",
   "execution_count": 78,
   "metadata": {},
   "outputs": [],
   "source": [
    "weather = get_weather()"
   ]
  },
  {
   "cell_type": "code",
   "execution_count": 79,
   "metadata": {},
   "outputs": [],
   "source": [
    "# print(weather)"
   ]
  },
  {
   "cell_type": "code",
   "execution_count": 80,
   "metadata": {},
   "outputs": [
    {
     "name": "stdout",
     "output_type": "stream",
     "text": [
      "coord :  {'lon': -6.25, 'lat': 53.36}\n",
      "weather :  [{'id': 500, 'main': 'Rain', 'description': 'light rain', 'icon': '10n'}]\n",
      "base :  stations\n",
      "main :  {'temp': 280.6, 'pressure': 993, 'humidity': 81, 'temp_min': 279.26, 'temp_max': 281.15}\n",
      "visibility :  10000\n",
      "wind :  {'speed': 4.1, 'deg': 120}\n",
      "rain :  {'1h': 0.25}\n",
      "clouds :  {'all': 75}\n",
      "dt :  1551814332\n",
      "sys :  {'type': 1, 'id': 1565, 'message': 0.0039, 'country': 'IE', 'sunrise': 1551769335, 'sunset': 1551809484}\n",
      "id :  7778677\n",
      "name :  Dublin City\n",
      "cod :  200\n"
     ]
    }
   ],
   "source": [
    "for key in weather.keys():\n",
    "    print(key,\": \", weather[key])"
   ]
  },
  {
   "cell_type": "code",
   "execution_count": 31,
   "metadata": {},
   "outputs": [
    {
     "data": {
      "text/plain": [
       "{'id': 803, 'main': 'Clouds', 'description': 'broken clouds', 'icon': '04d'}"
      ]
     },
     "execution_count": 31,
     "metadata": {},
     "output_type": "execute_result"
    }
   ],
   "source": [
    "weather['weather'][0]\n"
   ]
  },
  {
   "cell_type": "code",
   "execution_count": 52,
   "metadata": {},
   "outputs": [
    {
     "name": "stdout",
     "output_type": "stream",
     "text": [
      "04d.png\n"
     ]
    }
   ],
   "source": [
    "print(weather['weather'][0]['icon'] + '.png')"
   ]
  },
  {
   "cell_type": "code",
   "execution_count": 51,
   "metadata": {},
   "outputs": [],
   "source": [
    "# request = requests.get(\"http://openweathermap.org/img/w/10d.png\")\n"
   ]
  },
  {
   "cell_type": "code",
   "execution_count": 89,
   "metadata": {},
   "outputs": [
    {
     "data": {
      "text/plain": [
       "'light rain'"
      ]
     },
     "execution_count": 89,
     "metadata": {},
     "output_type": "execute_result"
    }
   ],
   "source": [
    "weather['weather'][0]['description']"
   ]
  },
  {
   "cell_type": "code",
   "execution_count": 97,
   "metadata": {},
   "outputs": [
    {
     "name": "stdout",
     "output_type": "stream",
     "text": [
      "[[{'id': 500, 'main': 'Rain', 'description': 'light rain', 'icon': '10n'}], {'temp': 280.6, 'pressure': 993, 'humidity': 81, 'temp_min': 279.26, 'temp_max': 281.15}]\n"
     ]
    }
   ],
   "source": [
    "condition = [weather['weather'], weather['main']]\n",
    "print(condition)"
   ]
  },
  {
   "cell_type": "code",
   "execution_count": 90,
   "metadata": {},
   "outputs": [
    {
     "data": {
      "text/plain": [
       "list"
      ]
     },
     "execution_count": 90,
     "metadata": {},
     "output_type": "execute_result"
    }
   ],
   "source": [
    "type(condition)"
   ]
  },
  {
   "cell_type": "code",
   "execution_count": 218,
   "metadata": {},
   "outputs": [],
   "source": [
    "def iterator(li):\n",
    "    if type(li) == list:\n",
    "        for i in li:\n",
    "            if type(i) == list:\n",
    "                iterator(i)\n",
    "            else:\n",
    "                print(i, end=\" \")\n",
    "        print(\"\")\n",
    "    "
   ]
  },
  {
   "cell_type": "code",
   "execution_count": 219,
   "metadata": {},
   "outputs": [],
   "source": [
    "myList = [[[1,2,3],'a','b','c'],'x','y','z']"
   ]
  },
  {
   "cell_type": "code",
   "execution_count": 220,
   "metadata": {},
   "outputs": [
    {
     "name": "stdout",
     "output_type": "stream",
     "text": [
      "1 2 3 \n",
      "a b c \n",
      "x y z \n"
     ]
    }
   ],
   "source": [
    "iterator(myList)"
   ]
  },
  {
   "cell_type": "code",
   "execution_count": null,
   "metadata": {},
   "outputs": [],
   "source": []
  },
  {
   "cell_type": "code",
   "execution_count": 238,
   "metadata": {},
   "outputs": [],
   "source": [
    "def extractor(li):\n",
    "    if type(li) == list:\n",
    "        for i in li:\n",
    "            if type(i) == list:\n",
    "                extractor(i)\n",
    "            else:\n",
    "                print(i)"
   ]
  },
  {
   "cell_type": "code",
   "execution_count": 239,
   "metadata": {},
   "outputs": [
    {
     "name": "stdout",
     "output_type": "stream",
     "text": [
      "1\n",
      "2\n",
      "3\n",
      "a\n",
      "b\n",
      "c\n",
      "x\n",
      "y\n",
      "z\n"
     ]
    }
   ],
   "source": [
    "extractor(myList)"
   ]
  },
  {
   "cell_type": "code",
   "execution_count": null,
   "metadata": {},
   "outputs": [],
   "source": []
  },
  {
   "cell_type": "code",
   "execution_count": null,
   "metadata": {},
   "outputs": [],
   "source": []
  }
 ],
 "metadata": {
  "kernelspec": {
   "display_name": "Python 3",
   "language": "python",
   "name": "python3"
  },
  "language_info": {
   "codemirror_mode": {
    "name": "ipython",
    "version": 3
   },
   "file_extension": ".py",
   "mimetype": "text/x-python",
   "name": "python",
   "nbconvert_exporter": "python",
   "pygments_lexer": "ipython3",
   "version": "3.7.2"
  }
 },
 "nbformat": 4,
 "nbformat_minor": 2
}
