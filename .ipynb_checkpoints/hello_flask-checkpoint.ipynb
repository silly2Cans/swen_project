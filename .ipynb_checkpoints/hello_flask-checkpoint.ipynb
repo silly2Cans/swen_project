{
 "cells": [
  {
   "cell_type": "code",
   "execution_count": null,
   "metadata": {},
   "outputs": [],
   "source": [
    "%config IPCompleter.greedy=True"
   ]
  },
  {
   "cell_type": "code",
   "execution_count": null,
   "metadata": {},
   "outputs": [],
   "source": [
    "import sys\n",
    "print(sys.executable)"
   ]
  },
  {
   "cell_type": "code",
   "execution_count": null,
   "metadata": {},
   "outputs": [],
   "source": [
    "from flask import Flask\n",
    "export FLASK_APP=my_app.py\n",
    "export FLASK_DEBUG=1\n",
    "flask run"
   ]
  },
  {
   "cell_type": "code",
   "execution_count": null,
   "metadata": {},
   "outputs": [],
   "source": [
    "#           模块名，flask以这个模块所在的目录为总目录，默认这个目录中的static为静态目录，templates为模板目录\n",
    "app = Flask(__name__,\n",
    "           static_url_path=\"/swen_project\",  # 访问静态资源的url前缀, 默认值是static\n",
    "           static_folder=\"static\",  # 静态文件的目录，默认就是static\n",
    "           template_folder=\"templates\",  # 模板文件的目录，默认是templates\n",
    "           )\n",
    "\n",
    "class Config(object):\n",
    "    DEBUG = True\n",
    "\n",
    "\n",
    "\n",
    "app.config.from_object(Config)\n",
    "@app.route(\"/\")\n",
    "def index():\n",
    "    \"\"\"定义的视图函数\"\"\"\n",
    "    return \"hello flask\"\n",
    "\n",
    "\n",
    "if __name__ == '__main__':\n",
    "    app.run(host=\"0.0.0.0\", port=5000, debug=True)"
   ]
  },
  {
   "cell_type": "code",
   "execution_count": null,
   "metadata": {},
   "outputs": [],
   "source": [
    "%tb"
   ]
  },
  {
   "cell_type": "code",
   "execution_count": null,
   "metadata": {},
   "outputs": [],
   "source": []
  },
  {
   "cell_type": "code",
   "execution_count": null,
   "metadata": {},
   "outputs": [],
   "source": []
  }
 ],
 "metadata": {
  "kernelspec": {
   "display_name": "Python [conda env:swen_project]",
   "language": "python",
   "name": "conda-env-swen_project-py"
  },
  "language_info": {
   "codemirror_mode": {
    "name": "ipython",
    "version": 3
   },
   "file_extension": ".py",
   "mimetype": "text/x-python",
   "name": "python",
   "nbconvert_exporter": "python",
   "pygments_lexer": "ipython3",
   "version": "3.7.2"
  }
 },
 "nbformat": 4,
 "nbformat_minor": 2
}
