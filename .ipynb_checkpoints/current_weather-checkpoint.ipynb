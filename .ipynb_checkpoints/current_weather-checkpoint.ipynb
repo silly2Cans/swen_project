{
 "cells": [
  {
   "cell_type": "code",
   "execution_count": 12,
   "metadata": {},
   "outputs": [],
   "source": [
    "import requests\n",
    "import json\n",
    "from pprint import pprint\n",
    "def get_weather():\n",
    "    \"\"\"Get the weather data from openweathermap.org API\"\"\"\n",
    "#     Do not make more than 60 requests per hour.\n",
    "    \n",
    "    APIURL = \"http://api.openweathermap.org/data/2.5/weather\"\n",
    "    APIKEY = \"2a2976ca391b03a9c1c9f1eba7680faa\"\n",
    "    CITYID = \"7778677\"\n",
    "#     Make request and print the data\n",
    "    request = requests.get(APIURL, params={'id':CITYID, 'APPID': APIKEY})\n",
    "#     return request.text\n",
    "#     print(request.text)\n",
    "    data = json.loads(request.text)\n",
    "#     print(data[\"city\"])\n",
    "    return data\n",
    "#     pprint(data)\n",
    "\n"
   ]
  },
  {
   "cell_type": "code",
   "execution_count": 13,
   "metadata": {},
   "outputs": [],
   "source": [
    "weather = get_weather()"
   ]
  },
  {
   "cell_type": "code",
   "execution_count": 14,
   "metadata": {},
   "outputs": [
    {
     "name": "stdout",
     "output_type": "stream",
     "text": [
      "{'base': 'stations',\n",
      " 'clouds': {'all': 75},\n",
      " 'cod': 200,\n",
      " 'coord': {'lat': 53.36, 'lon': -6.25},\n",
      " 'dt': 1551802713,\n",
      " 'id': 7778677,\n",
      " 'main': {'humidity': 53,\n",
      "          'pressure': 995,\n",
      "          'temp': 282.38,\n",
      "          'temp_max': 283.15,\n",
      "          'temp_min': 281.48},\n",
      " 'name': 'Dublin City',\n",
      " 'rain': {'1h': 0.25},\n",
      " 'sys': {'country': 'IE',\n",
      "         'id': 1565,\n",
      "         'message': 0.0033,\n",
      "         'sunrise': 1551769354,\n",
      "         'sunset': 1551809469,\n",
      "         'type': 1},\n",
      " 'visibility': 10000,\n",
      " 'weather': [{'description': 'light rain',\n",
      "              'icon': '10d',\n",
      "              'id': 500,\n",
      "              'main': 'Rain'}],\n",
      " 'wind': {'deg': 210, 'speed': 6.7}}\n"
     ]
    }
   ],
   "source": [
    "pprint(weather)"
   ]
  },
  {
   "cell_type": "code",
   "execution_count": null,
   "metadata": {},
   "outputs": [],
   "source": []
  }
 ],
 "metadata": {
  "kernelspec": {
   "display_name": "Python 3",
   "language": "python",
   "name": "python3"
  },
  "language_info": {
   "codemirror_mode": {
    "name": "ipython",
    "version": 3
   },
   "file_extension": ".py",
   "mimetype": "text/x-python",
   "name": "python",
   "nbconvert_exporter": "python",
   "pygments_lexer": "ipython3",
   "version": "3.7.2"
  }
 },
 "nbformat": 4,
 "nbformat_minor": 2
}
