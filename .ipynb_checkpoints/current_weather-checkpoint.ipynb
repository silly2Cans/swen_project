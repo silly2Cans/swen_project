{
 "cells": [
  {
   "cell_type": "code",
   "execution_count": 34,
   "metadata": {},
   "outputs": [
    {
     "ename": "ModuleNotFoundError",
     "evalue": "No module named 'emoji'",
     "output_type": "error",
     "traceback": [
      "\u001b[0;31m---------------------------------------------------------------------------\u001b[0m",
      "\u001b[0;31mModuleNotFoundError\u001b[0m                       Traceback (most recent call last)",
      "\u001b[0;32m<ipython-input-34-a74b2ba176aa>\u001b[0m in \u001b[0;36m<module>\u001b[0;34m\u001b[0m\n\u001b[1;32m      3\u001b[0m \u001b[0;32mfrom\u001b[0m \u001b[0mpprint\u001b[0m \u001b[0;32mimport\u001b[0m \u001b[0mpprint\u001b[0m\u001b[0;34m\u001b[0m\u001b[0;34m\u001b[0m\u001b[0m\n\u001b[1;32m      4\u001b[0m \u001b[0;32mimport\u001b[0m \u001b[0mtime\u001b[0m\u001b[0;34m\u001b[0m\u001b[0;34m\u001b[0m\u001b[0m\n\u001b[0;32m----> 5\u001b[0;31m \u001b[0;32mimport\u001b[0m \u001b[0memoji\u001b[0m\u001b[0;34m\u001b[0m\u001b[0;34m\u001b[0m\u001b[0m\n\u001b[0m\u001b[1;32m      6\u001b[0m \u001b[0;32mdef\u001b[0m \u001b[0mget_weather\u001b[0m\u001b[0;34m(\u001b[0m\u001b[0;34m)\u001b[0m\u001b[0;34m:\u001b[0m\u001b[0;34m\u001b[0m\u001b[0;34m\u001b[0m\u001b[0m\n\u001b[1;32m      7\u001b[0m     \u001b[0;34m\"\"\"Get the weather data from openweathermap.org API\"\"\"\u001b[0m\u001b[0;34m\u001b[0m\u001b[0;34m\u001b[0m\u001b[0m\n",
      "\u001b[0;31mModuleNotFoundError\u001b[0m: No module named 'emoji'"
     ]
    }
   ],
   "source": [
    "import requests\n",
    "import json\n",
    "from pprint import pprint\n",
    "import time\n",
    "import emoji\n",
    "def get_weather():\n",
    "    \"\"\"Get the weather data from openweathermap.org API\"\"\"\n",
    "#     Do not make more than 60 requests per hour.\n",
    "    \n",
    "    APIURL = \"http://api.openweathermap.org/data/2.5/weather\"\n",
    "    APIKEY = \"2a2976ca391b03a9c1c9f1eba7680faa\"\n",
    "    CITYID = \"7778677\"\n",
    "#     Make request and print the data\n",
    "    request = requests.get(APIURL, params={'id':CITYID, 'APPID': APIKEY})\n",
    "#     return request.text\n",
    "#     print(request.text)\n",
    "    data = json.loads(request.text)\n",
    "#     print(data[\"city\"])\n",
    "    return data\n",
    "#     pprint(data)\n",
    "\n"
   ]
  },
  {
   "cell_type": "code",
   "execution_count": 19,
   "metadata": {},
   "outputs": [],
   "source": [
    "weather = get_weather()"
   ]
  },
  {
   "cell_type": "code",
   "execution_count": 20,
   "metadata": {},
   "outputs": [
    {
     "name": "stdout",
     "output_type": "stream",
     "text": [
      "{'base': 'stations',\n",
      " 'clouds': {'all': 75},\n",
      " 'cod': 200,\n",
      " 'coord': {'lat': 53.36, 'lon': -6.25},\n",
      " 'dt': 1551806619,\n",
      " 'id': 7778677,\n",
      " 'main': {'humidity': 61,\n",
      "          'pressure': 994,\n",
      "          'temp': 281.85,\n",
      "          'temp_max': 282.59,\n",
      "          'temp_min': 280.93},\n",
      " 'name': 'Dublin City',\n",
      " 'sys': {'country': 'IE',\n",
      "         'id': 1565,\n",
      "         'message': 0.0041,\n",
      "         'sunrise': 1551769348,\n",
      "         'sunset': 1551809474,\n",
      "         'type': 1},\n",
      " 'visibility': 10000,\n",
      " 'weather': [{'description': 'broken clouds',\n",
      "              'icon': '04d',\n",
      "              'id': 803,\n",
      "              'main': 'Clouds'}],\n",
      " 'wind': {'deg': 200, 'speed': 4.6}}\n"
     ]
    }
   ],
   "source": [
    "pprint(weather)"
   ]
  },
  {
   "cell_type": "code",
   "execution_count": 31,
   "metadata": {},
   "outputs": [
    {
     "data": {
      "text/plain": [
       "{'id': 803, 'main': 'Clouds', 'description': 'broken clouds', 'icon': '04d'}"
      ]
     },
     "execution_count": 31,
     "metadata": {},
     "output_type": "execute_result"
    }
   ],
   "source": [
    "weather['weather'][0]\n"
   ]
  },
  {
   "cell_type": "code",
   "execution_count": 52,
   "metadata": {},
   "outputs": [
    {
     "name": "stdout",
     "output_type": "stream",
     "text": [
      "04d.png\n"
     ]
    }
   ],
   "source": [
    "print(weather['weather'][0]['icon'] + '.png')"
   ]
  },
  {
   "cell_type": "code",
   "execution_count": 51,
   "metadata": {},
   "outputs": [],
   "source": [
    "request = requests.get(\"http://openweathermap.org/img/w/10d.png\")\n"
   ]
  },
  {
   "cell_type": "code",
   "execution_count": null,
   "metadata": {},
   "outputs": [],
   "source": []
  },
  {
   "cell_type": "code",
   "execution_count": null,
   "metadata": {},
   "outputs": [],
   "source": []
  }
 ],
 "metadata": {
  "kernelspec": {
   "display_name": "Python 3",
   "language": "python",
   "name": "python3"
  },
  "language_info": {
   "codemirror_mode": {
    "name": "ipython",
    "version": 3
   },
   "file_extension": ".py",
   "mimetype": "text/x-python",
   "name": "python",
   "nbconvert_exporter": "python",
   "pygments_lexer": "ipython3",
   "version": "3.7.2"
  }
 },
 "nbformat": 4,
 "nbformat_minor": 2
}
